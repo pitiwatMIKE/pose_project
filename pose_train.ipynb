{
 "cells": [
  {
   "cell_type": "code",
   "execution_count": 5,
   "metadata": {},
   "outputs": [],
   "source": [
    "import pandas as pd\n",
    "from sklearn.model_selection import train_test_split"
   ]
  },
  {
   "cell_type": "code",
   "execution_count": 6,
   "metadata": {},
   "outputs": [],
   "source": [
    "df = pd.read_csv('pose_coords.csv')"
   ]
  },
  {
   "cell_type": "code",
   "execution_count": 8,
   "metadata": {},
   "outputs": [
    {
     "data": {
      "text/html": [
       "<div>\n",
       "<style scoped>\n",
       "    .dataframe tbody tr th:only-of-type {\n",
       "        vertical-align: middle;\n",
       "    }\n",
       "\n",
       "    .dataframe tbody tr th {\n",
       "        vertical-align: top;\n",
       "    }\n",
       "\n",
       "    .dataframe thead th {\n",
       "        text-align: right;\n",
       "    }\n",
       "</style>\n",
       "<table border=\"1\" class=\"dataframe\">\n",
       "  <thead>\n",
       "    <tr style=\"text-align: right;\">\n",
       "      <th></th>\n",
       "      <th>class</th>\n",
       "      <th>x1</th>\n",
       "      <th>y1</th>\n",
       "      <th>z1</th>\n",
       "      <th>v1</th>\n",
       "      <th>x2</th>\n",
       "      <th>y2</th>\n",
       "      <th>z2</th>\n",
       "      <th>v2</th>\n",
       "      <th>x3</th>\n",
       "      <th>...</th>\n",
       "      <th>z31</th>\n",
       "      <th>v31</th>\n",
       "      <th>x32</th>\n",
       "      <th>y32</th>\n",
       "      <th>z32</th>\n",
       "      <th>v32</th>\n",
       "      <th>x33</th>\n",
       "      <th>y33</th>\n",
       "      <th>z33</th>\n",
       "      <th>v33</th>\n",
       "    </tr>\n",
       "  </thead>\n",
       "  <tbody>\n",
       "    <tr>\n",
       "      <th>0</th>\n",
       "      <td>stand</td>\n",
       "      <td>0.566145</td>\n",
       "      <td>0.173662</td>\n",
       "      <td>-0.327223</td>\n",
       "      <td>0.999997</td>\n",
       "      <td>0.572900</td>\n",
       "      <td>0.154029</td>\n",
       "      <td>-0.311016</td>\n",
       "      <td>0.999987</td>\n",
       "      <td>0.577742</td>\n",
       "      <td>...</td>\n",
       "      <td>0.202105</td>\n",
       "      <td>0.869018</td>\n",
       "      <td>0.655418</td>\n",
       "      <td>0.860317</td>\n",
       "      <td>0.125885</td>\n",
       "      <td>0.965604</td>\n",
       "      <td>0.552598</td>\n",
       "      <td>0.887737</td>\n",
       "      <td>0.072032</td>\n",
       "      <td>0.981531</td>\n",
       "    </tr>\n",
       "    <tr>\n",
       "      <th>1</th>\n",
       "      <td>stand</td>\n",
       "      <td>0.566161</td>\n",
       "      <td>0.179150</td>\n",
       "      <td>-0.420259</td>\n",
       "      <td>0.999997</td>\n",
       "      <td>0.572912</td>\n",
       "      <td>0.159030</td>\n",
       "      <td>-0.401283</td>\n",
       "      <td>0.999987</td>\n",
       "      <td>0.577663</td>\n",
       "      <td>...</td>\n",
       "      <td>0.275338</td>\n",
       "      <td>0.874734</td>\n",
       "      <td>0.652018</td>\n",
       "      <td>0.857871</td>\n",
       "      <td>0.220149</td>\n",
       "      <td>0.967271</td>\n",
       "      <td>0.550882</td>\n",
       "      <td>0.887645</td>\n",
       "      <td>0.114770</td>\n",
       "      <td>0.982432</td>\n",
       "    </tr>\n",
       "    <tr>\n",
       "      <th>2</th>\n",
       "      <td>stand</td>\n",
       "      <td>0.567343</td>\n",
       "      <td>0.180809</td>\n",
       "      <td>-0.445499</td>\n",
       "      <td>0.999996</td>\n",
       "      <td>0.573756</td>\n",
       "      <td>0.160838</td>\n",
       "      <td>-0.428218</td>\n",
       "      <td>0.999985</td>\n",
       "      <td>0.578365</td>\n",
       "      <td>...</td>\n",
       "      <td>0.258111</td>\n",
       "      <td>0.879771</td>\n",
       "      <td>0.643665</td>\n",
       "      <td>0.857662</td>\n",
       "      <td>0.212388</td>\n",
       "      <td>0.969382</td>\n",
       "      <td>0.549354</td>\n",
       "      <td>0.887073</td>\n",
       "      <td>0.102752</td>\n",
       "      <td>0.983360</td>\n",
       "    </tr>\n",
       "    <tr>\n",
       "      <th>3</th>\n",
       "      <td>stand</td>\n",
       "      <td>0.573604</td>\n",
       "      <td>0.182054</td>\n",
       "      <td>-0.441866</td>\n",
       "      <td>0.999996</td>\n",
       "      <td>0.579781</td>\n",
       "      <td>0.162642</td>\n",
       "      <td>-0.426374</td>\n",
       "      <td>0.999982</td>\n",
       "      <td>0.584260</td>\n",
       "      <td>...</td>\n",
       "      <td>0.214253</td>\n",
       "      <td>0.884681</td>\n",
       "      <td>0.638163</td>\n",
       "      <td>0.859657</td>\n",
       "      <td>0.151487</td>\n",
       "      <td>0.971517</td>\n",
       "      <td>0.549292</td>\n",
       "      <td>0.886825</td>\n",
       "      <td>0.051459</td>\n",
       "      <td>0.984247</td>\n",
       "    </tr>\n",
       "    <tr>\n",
       "      <th>4</th>\n",
       "      <td>stand</td>\n",
       "      <td>0.581257</td>\n",
       "      <td>0.182671</td>\n",
       "      <td>-0.465291</td>\n",
       "      <td>0.999995</td>\n",
       "      <td>0.587338</td>\n",
       "      <td>0.163866</td>\n",
       "      <td>-0.450070</td>\n",
       "      <td>0.999980</td>\n",
       "      <td>0.591651</td>\n",
       "      <td>...</td>\n",
       "      <td>0.199491</td>\n",
       "      <td>0.887937</td>\n",
       "      <td>0.637047</td>\n",
       "      <td>0.862361</td>\n",
       "      <td>0.147457</td>\n",
       "      <td>0.973460</td>\n",
       "      <td>0.549347</td>\n",
       "      <td>0.886873</td>\n",
       "      <td>0.033916</td>\n",
       "      <td>0.985071</td>\n",
       "    </tr>\n",
       "  </tbody>\n",
       "</table>\n",
       "<p>5 rows × 133 columns</p>\n",
       "</div>"
      ],
      "text/plain": [
       "   class        x1        y1        z1        v1        x2        y2  \\\n",
       "0  stand  0.566145  0.173662 -0.327223  0.999997  0.572900  0.154029   \n",
       "1  stand  0.566161  0.179150 -0.420259  0.999997  0.572912  0.159030   \n",
       "2  stand  0.567343  0.180809 -0.445499  0.999996  0.573756  0.160838   \n",
       "3  stand  0.573604  0.182054 -0.441866  0.999996  0.579781  0.162642   \n",
       "4  stand  0.581257  0.182671 -0.465291  0.999995  0.587338  0.163866   \n",
       "\n",
       "         z2        v2        x3  ...       z31       v31       x32       y32  \\\n",
       "0 -0.311016  0.999987  0.577742  ...  0.202105  0.869018  0.655418  0.860317   \n",
       "1 -0.401283  0.999987  0.577663  ...  0.275338  0.874734  0.652018  0.857871   \n",
       "2 -0.428218  0.999985  0.578365  ...  0.258111  0.879771  0.643665  0.857662   \n",
       "3 -0.426374  0.999982  0.584260  ...  0.214253  0.884681  0.638163  0.859657   \n",
       "4 -0.450070  0.999980  0.591651  ...  0.199491  0.887937  0.637047  0.862361   \n",
       "\n",
       "        z32       v32       x33       y33       z33       v33  \n",
       "0  0.125885  0.965604  0.552598  0.887737  0.072032  0.981531  \n",
       "1  0.220149  0.967271  0.550882  0.887645  0.114770  0.982432  \n",
       "2  0.212388  0.969382  0.549354  0.887073  0.102752  0.983360  \n",
       "3  0.151487  0.971517  0.549292  0.886825  0.051459  0.984247  \n",
       "4  0.147457  0.973460  0.549347  0.886873  0.033916  0.985071  \n",
       "\n",
       "[5 rows x 133 columns]"
      ]
     },
     "execution_count": 8,
     "metadata": {},
     "output_type": "execute_result"
    }
   ],
   "source": [
    "df.head()"
   ]
  },
  {
   "cell_type": "code",
   "execution_count": 9,
   "metadata": {},
   "outputs": [],
   "source": [
    "X = df.drop('class', axis=1) # features\n",
    "y = df['class'] # target value"
   ]
  },
  {
   "cell_type": "code",
   "execution_count": 10,
   "metadata": {},
   "outputs": [],
   "source": [
    "X_train, X_test, y_train, y_test = train_test_split(X, y, test_size=0.3, random_state=74)"
   ]
  },
  {
   "cell_type": "code",
   "execution_count": 16,
   "metadata": {},
   "outputs": [
    {
     "name": "stdout",
     "output_type": "stream",
     "text": [
      "X_train : (893, 132)\n",
      "X_test : (384, 132)\n"
     ]
    }
   ],
   "source": [
    "print(\"X_train :\", X_train.shape)\n",
    "print(\"X_test :\", X_test.shape)"
   ]
  },
  {
   "cell_type": "code",
   "execution_count": 17,
   "metadata": {},
   "outputs": [],
   "source": [
    "from sklearn.pipeline import make_pipeline \n",
    "from sklearn.preprocessing import StandardScaler \n",
    "\n",
    "from sklearn.linear_model import LogisticRegression, RidgeClassifier\n",
    "from sklearn.ensemble import RandomForestClassifier, GradientBoostingClassifier"
   ]
  },
  {
   "cell_type": "code",
   "execution_count": 18,
   "metadata": {},
   "outputs": [],
   "source": [
    "pipelines = {\n",
    "    'lr':make_pipeline(StandardScaler(), LogisticRegression()),\n",
    "    'rc':make_pipeline(StandardScaler(), RidgeClassifier()),\n",
    "    'rf':make_pipeline(StandardScaler(), RandomForestClassifier()),\n",
    "    'gb':make_pipeline(StandardScaler(), GradientBoostingClassifier()),\n",
    "}"
   ]
  },
  {
   "cell_type": "code",
   "execution_count": 19,
   "metadata": {},
   "outputs": [],
   "source": [
    "models = {}\n",
    "for algo, pipeline in pipelines.items():\n",
    "    fit_model = pipeline.fit(X_train, y_train)\n",
    "    models[algo] = fit_model"
   ]
  },
  {
   "cell_type": "code",
   "execution_count": 20,
   "metadata": {},
   "outputs": [],
   "source": [
    "from sklearn.metrics import accuracy_score # Accuracy metrics \n",
    "import pickle "
   ]
  },
  {
   "cell_type": "code",
   "execution_count": 21,
   "metadata": {},
   "outputs": [
    {
     "name": "stdout",
     "output_type": "stream",
     "text": [
      "lr 1.0\n",
      "rc 1.0\n",
      "rf 1.0\n",
      "gb 1.0\n"
     ]
    }
   ],
   "source": [
    "for algo, model in models.items():\n",
    "    yhat = model.predict(X_test)\n",
    "    print(algo, accuracy_score(y_test, yhat))"
   ]
  },
  {
   "cell_type": "code",
   "execution_count": 23,
   "metadata": {},
   "outputs": [],
   "source": [
    "with open('pose_model.pkl', 'wb') as f:\n",
    "    pickle.dump(models['rf'], f)"
   ]
  }
 ],
 "metadata": {
  "interpreter": {
   "hash": "54cb3a463da263714645ef8be3f8c2da311b0ca5ae45693bfdf36eca119a7a65"
  },
  "kernelspec": {
   "display_name": "Python 3.9.4 64-bit ('pose_ml': conda)",
   "name": "python3"
  },
  "language_info": {
   "codemirror_mode": {
    "name": "ipython",
    "version": 3
   },
   "file_extension": ".py",
   "mimetype": "text/x-python",
   "name": "python",
   "nbconvert_exporter": "python",
   "pygments_lexer": "ipython3",
   "version": "3.9.4"
  },
  "orig_nbformat": 4
 },
 "nbformat": 4,
 "nbformat_minor": 2
}
